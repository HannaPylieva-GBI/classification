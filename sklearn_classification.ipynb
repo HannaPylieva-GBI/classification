{
 "cells": [
  {
   "cell_type": "code",
   "execution_count": 8,
   "id": "327407b5-918e-40b1-bc0c-3d308d621765",
   "metadata": {},
   "outputs": [],
   "source": [
    "import pandas as pd\n",
    "import numpy as np\n",
    "import pickle\n",
    "\n",
    "from sklearn.model_selection import train_test_split\n",
    "from sklearn.feature_extraction.text import TfidfVectorizer\n",
    "from sklearn.naive_bayes import MultinomialNB\n",
    "from sklearn.metrics import accuracy_score, top_k_accuracy_score\n",
    "from sklearn.pipeline import Pipeline"
   ]
  },
  {
   "cell_type": "code",
   "execution_count": 2,
   "id": "bf4b49a3-8007-40e6-b36f-bd435a66995d",
   "metadata": {},
   "outputs": [],
   "source": [
    "import gcsfs"
   ]
  },
  {
   "cell_type": "code",
   "execution_count": 3,
   "id": "242ec855-5d35-4a3e-ba83-c0ac4893bd6a",
   "metadata": {},
   "outputs": [],
   "source": [
    "PROJECT_ID = 'groupby-development'"
   ]
  },
  {
   "cell_type": "code",
   "execution_count": 4,
   "id": "5a9fea5b-4411-49ac-9da7-e8a855fdacfe",
   "metadata": {},
   "outputs": [],
   "source": [
    "fs = gcsfs.GCSFileSystem(project=PROJECT_ID)"
   ]
  },
  {
   "cell_type": "code",
   "execution_count": 5,
   "id": "9c064132-358e-4968-a8cd-bb0e732cbb0a",
   "metadata": {},
   "outputs": [],
   "source": [
    "label_mapping='gs://gbi_ml/classification_hackathon/label2id.pickle'\n",
    "\n",
    "with fs.open(label_mapping, 'rb') as handle:\n",
    "    label2id = pickle.load(handle)\n",
    "\n",
    "id_mapping='gs://gbi_ml/classification_hackathon/id2label.pickle'\n",
    "with fs.open(id_mapping, 'rb') as handle:\n",
    "    id2label = pickle.load(handle)\n",
    "    \n",
    "from collections import defaultdict\n",
    "  \n",
    "def def_value():\n",
    "    return -1\n",
    "\n",
    "# Defining the dict\n",
    "d = defaultdict(int, label2id)"
   ]
  },
  {
   "cell_type": "code",
   "execution_count": 6,
   "id": "d5f6db85-4265-4694-bcb4-8be863398d4f",
   "metadata": {},
   "outputs": [
    {
     "data": {
      "text/html": [
       "<div>\n",
       "<style scoped>\n",
       "    .dataframe tbody tr th:only-of-type {\n",
       "        vertical-align: middle;\n",
       "    }\n",
       "\n",
       "    .dataframe tbody tr th {\n",
       "        vertical-align: top;\n",
       "    }\n",
       "\n",
       "    .dataframe thead th {\n",
       "        text-align: right;\n",
       "    }\n",
       "</style>\n",
       "<table border=\"1\" class=\"dataframe\">\n",
       "  <thead>\n",
       "    <tr style=\"text-align: right;\">\n",
       "      <th></th>\n",
       "      <th>bucket_id</th>\n",
       "      <th>external_id</th>\n",
       "      <th>bucket_name</th>\n",
       "      <th>product_id</th>\n",
       "      <th>raw_product_name</th>\n",
       "      <th>raw_product_description</th>\n",
       "      <th>label</th>\n",
       "    </tr>\n",
       "  </thead>\n",
       "  <tbody>\n",
       "    <tr>\n",
       "      <th>0</th>\n",
       "      <td>6597</td>\n",
       "      <td>200100276</td>\n",
       "      <td>Traps</td>\n",
       "      <td>1588676851</td>\n",
       "      <td>Evergreen Fruit Fly Trap, Red</td>\n",
       "      <td>Evergreen Fruit Fly Trap, Red You'll be able t...</td>\n",
       "      <td>613</td>\n",
       "    </tr>\n",
       "    <tr>\n",
       "      <th>1</th>\n",
       "      <td>6597</td>\n",
       "      <td>200100281</td>\n",
       "      <td>Traps</td>\n",
       "      <td>1588676855</td>\n",
       "      <td>Evergreen Fruit Fly Trap, Green</td>\n",
       "      <td>Evergreen Fruit Fly Trap, Green You'll be able...</td>\n",
       "      <td>613</td>\n",
       "    </tr>\n",
       "    <tr>\n",
       "      <th>2</th>\n",
       "      <td>6597</td>\n",
       "      <td>200200086</td>\n",
       "      <td>Traps</td>\n",
       "      <td>1751333665</td>\n",
       "      <td>Evertone HomeMax Chemical-Free Mosquito Killer</td>\n",
       "      <td>Tired of flying insects in your space? The mos...</td>\n",
       "      <td>613</td>\n",
       "    </tr>\n",
       "    <tr>\n",
       "      <th>3</th>\n",
       "      <td>6597</td>\n",
       "      <td>200207644</td>\n",
       "      <td>Traps</td>\n",
       "      <td>1872638801</td>\n",
       "      <td>Woodstream Terro (#T300) Liquid Ant Bait, Pre-...</td>\n",
       "      <td>Terro (#T300) Liquid Ant Bait, Pre-filled, RTU...</td>\n",
       "      <td>613</td>\n",
       "    </tr>\n",
       "    <tr>\n",
       "      <th>4</th>\n",
       "      <td>6597</td>\n",
       "      <td>200207650</td>\n",
       "      <td>Traps</td>\n",
       "      <td>1949868418</td>\n",
       "      <td>Woodstream Safer Japanese Beetle Trap w/ Bag &amp;...</td>\n",
       "      <td>Safer Japanese Beetle Trap w/ Bag &amp; Bait Japan...</td>\n",
       "      <td>613</td>\n",
       "    </tr>\n",
       "  </tbody>\n",
       "</table>\n",
       "</div>"
      ],
      "text/plain": [
       "   bucket_id  external_id bucket_name  product_id  \\\n",
       "0       6597    200100276       Traps  1588676851   \n",
       "1       6597    200100281       Traps  1588676855   \n",
       "2       6597    200200086       Traps  1751333665   \n",
       "3       6597    200207644       Traps  1872638801   \n",
       "4       6597    200207650       Traps  1949868418   \n",
       "\n",
       "                                    raw_product_name  \\\n",
       "0                      Evergreen Fruit Fly Trap, Red   \n",
       "1                    Evergreen Fruit Fly Trap, Green   \n",
       "2     Evertone HomeMax Chemical-Free Mosquito Killer   \n",
       "3  Woodstream Terro (#T300) Liquid Ant Bait, Pre-...   \n",
       "4  Woodstream Safer Japanese Beetle Trap w/ Bag &...   \n",
       "\n",
       "                             raw_product_description  label  \n",
       "0  Evergreen Fruit Fly Trap, Red You'll be able t...    613  \n",
       "1  Evergreen Fruit Fly Trap, Green You'll be able...    613  \n",
       "2  Tired of flying insects in your space? The mos...    613  \n",
       "3  Terro (#T300) Liquid Ant Bait, Pre-filled, RTU...    613  \n",
       "4  Safer Japanese Beetle Trap w/ Bag & Bait Japan...    613  "
      ]
     },
     "execution_count": 6,
     "metadata": {},
     "output_type": "execute_result"
    }
   ],
   "source": [
    "base_dir = 'gs://gbi_ml/classification_hackathon/'\n",
    "train_path = 'gs://gbi_ml/classification_hackathon/bbby_train_new.csv'\n",
    "test_path = 'gs://gbi_ml/classification_hackathon/bbby_test_new.csv'\n",
    "train_path = 'gs://gbi_ml/classification_hackathon/bbby_train_ready.csv' #with labels\n",
    "test_path = 'gs://gbi_ml/classification_hackathon/bbby_test_ready.csv' # with labels\n",
    "\n",
    "df = pd.read_csv(train_path)\n",
    "test_df = pd.read_csv(test_path)\n",
    "df.head()"
   ]
  },
  {
   "cell_type": "code",
   "execution_count": 23,
   "id": "73faba2d-512a-49f4-9897-e45e9f14c963",
   "metadata": {},
   "outputs": [],
   "source": [
    "# df['label'] = df.bucket_name.apply(lambda x: label2id[x])\n",
    "\n",
    "# df[\n",
    "#     ['bucket_id', 'external_id', 'bucket_name','product_id','raw_product_name', 'raw_product_description', 'label']\n",
    "# ].to_csv('gs://gbi_ml/classification_hackathon/bbby_train_ready.csv', index=False)\n",
    "\n",
    "# test_df = pd.read_csv(test_path)\n",
    "# test_df['label'] = test_df['Manual Classification Bucket'].apply(lambda x: d[x])\n",
    "\n",
    "# test_df.rename(columns={'Manual Classification Bucket':'bucket_name', 'External ID':'external_id'})[\n",
    "#     ['external_id', 'bucket_name','raw_product_name', 'raw_product_description', 'label']].to_csv('gs://gbi_ml/classification_hackathon/bbby_test_ready.csv', index=False)"
   ]
  },
  {
   "cell_type": "code",
   "execution_count": 52,
   "id": "796b4b5a-c850-4816-b6d8-389b24d23736",
   "metadata": {},
   "outputs": [],
   "source": [
    "filtered = df.groupby('label').head(30)"
   ]
  },
  {
   "cell_type": "code",
   "execution_count": null,
   "id": "6ee336cc-b3a1-469e-a8ad-9657a0bee77c",
   "metadata": {},
   "outputs": [],
   "source": [
    "filtered = filtered.sample(frac=1, random_state=42)"
   ]
  },
  {
   "cell_type": "code",
   "execution_count": 53,
   "id": "8034181d-40aa-451a-b0b1-f562c21ee1ec",
   "metadata": {},
   "outputs": [
    {
     "data": {
      "text/plain": [
       "(19951, 13)"
      ]
     },
     "execution_count": 53,
     "metadata": {},
     "output_type": "execute_result"
    }
   ],
   "source": [
    "filtered.shape"
   ]
  },
  {
   "cell_type": "code",
   "execution_count": 54,
   "id": "8621ca99-8aa7-454c-a0e3-4fc0f68e9fba",
   "metadata": {},
   "outputs": [],
   "source": [
    "train_df = filtered"
   ]
  },
  {
   "cell_type": "code",
   "execution_count": 9,
   "id": "8e260ff4-8d9e-4276-8a3d-57beab6c74f2",
   "metadata": {},
   "outputs": [],
   "source": [
    "pipe = Pipeline([('vectorizer', TfidfVectorizer()), ('classifier', MultinomialNB())])"
   ]
  },
  {
   "cell_type": "code",
   "execution_count": 61,
   "id": "ac5fb71d-7948-4210-b05c-b2335d8e4b52",
   "metadata": {},
   "outputs": [],
   "source": [
    "# # for testing vectorizer\n",
    "# tfidf = TfidfVectorizer(sublinear_tf=True, min_df=5, norm='l2', encoding='latin-1', ngram_range=(1, 2), stop_words='english')\n",
    "# df_features = tfidf.fit_transform(train_df.raw_product_description).astype(np.float32).toarray()\n",
    "# clf = MultinomialNB().fit(df_features, df.label[:1000])\n",
    "# clf.predict(df_features[-10:])"
   ]
  },
  {
   "cell_type": "code",
   "execution_count": 10,
   "id": "82606acf-92e7-42da-9c19-fe937e2b467a",
   "metadata": {},
   "outputs": [
    {
     "data": {
      "text/plain": [
       "Pipeline(steps=[('vectorizer', TfidfVectorizer()),\n",
       "                ('classifier', MultinomialNB())])"
      ]
     },
     "execution_count": 10,
     "metadata": {},
     "output_type": "execute_result"
    }
   ],
   "source": [
    "pipe.fit(df.raw_product_description, df.label)"
   ]
  },
  {
   "cell_type": "code",
   "execution_count": 64,
   "id": "25b8642a-66a5-49d3-b6b0-8b8cb96a10aa",
   "metadata": {},
   "outputs": [
    {
     "data": {
      "text/plain": [
       "array([613, 231, 613, 613, 613, 613, 613, 613, 613, 613, 613, 613, 613,\n",
       "       613, 613, 613, 613, 613, 613, 613, 613, 613, 613, 613, 613, 613,\n",
       "       613, 613, 613, 613, 632, 632, 632, 632, 632, 632, 632, 632, 632,\n",
       "       632, 632, 632, 632, 632, 632, 632, 632, 632, 632, 632, 632, 632,\n",
       "       632, 632, 493, 632, 632, 632, 632, 632, 491,  22,  22, 574,  22,\n",
       "        22,  22,  22,  22,  22,  22,  22,  22,  22,  22,  22,  22,  22,\n",
       "        22,  22,  22,  22,  22,  22,  22,  22,  22,  22,  22,  22,  82,\n",
       "        82, 491,  82,  82,  82,  82,  82,  82,  82])"
      ]
     },
     "execution_count": 64,
     "metadata": {},
     "output_type": "execute_result"
    }
   ],
   "source": [
    "pipe.predict(train_df.raw_product_description[:100])"
   ]
  },
  {
   "cell_type": "code",
   "execution_count": 12,
   "id": "e93e1f6d-0fdb-4e93-969d-02665eed8685",
   "metadata": {},
   "outputs": [
    {
     "data": {
      "text/plain": [
       "0.7940859726745468"
      ]
     },
     "execution_count": 12,
     "metadata": {},
     "output_type": "execute_result"
    }
   ],
   "source": [
    "accuracy_score(pipe.predict(df.raw_product_description), df.label)"
   ]
  },
  {
   "cell_type": "code",
   "execution_count": 13,
   "id": "df81bf97-aeed-42f2-af73-59b8a7a0b4d4",
   "metadata": {},
   "outputs": [
    {
     "data": {
      "text/plain": [
       "0.49766439094502335"
      ]
     },
     "execution_count": 13,
     "metadata": {},
     "output_type": "execute_result"
    }
   ],
   "source": [
    "accuracy_score(pipe.predict(test_df.raw_product_description), test_df.label)"
   ]
  },
  {
   "cell_type": "code",
   "execution_count": 18,
   "id": "790cad82-336c-4bc4-8a9e-ab2eae8d801a",
   "metadata": {},
   "outputs": [],
   "source": [
    "labels = list(id2label.keys())"
   ]
  },
  {
   "cell_type": "code",
   "execution_count": 20,
   "id": "acacee77-7aa4-48ae-b9ae-5bc3a2251522",
   "metadata": {},
   "outputs": [
    {
     "data": {
      "text/plain": [
       "0.6614136851291001"
      ]
     },
     "execution_count": 20,
     "metadata": {},
     "output_type": "execute_result"
    }
   ],
   "source": [
    "top_k_accuracy_score(test_df.label, pipe.predict_proba(test_df.raw_product_description), k=3, labels=labels)"
   ]
  }
 ],
 "metadata": {
  "environment": {
   "kernel": "python3",
   "name": "tf-gpu.1-15.m93",
   "type": "gcloud",
   "uri": "gcr.io/deeplearning-platform-release/tf-gpu.1-15:m93"
  },
  "kernelspec": {
   "display_name": "Python 3",
   "language": "python",
   "name": "python3"
  },
  "language_info": {
   "codemirror_mode": {
    "name": "ipython",
    "version": 3
   },
   "file_extension": ".py",
   "mimetype": "text/x-python",
   "name": "python",
   "nbconvert_exporter": "python",
   "pygments_lexer": "ipython3",
   "version": "3.7.12"
  }
 },
 "nbformat": 4,
 "nbformat_minor": 5
}
