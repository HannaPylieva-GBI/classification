{
 "cells": [
  {
   "cell_type": "code",
   "execution_count": 1,
   "id": "634dce75-2a81-46bc-87ce-842a45629023",
   "metadata": {},
   "outputs": [],
   "source": [
    "import os\n",
    "\n",
    "import google.cloud.aiplatform as aip\n",
    "\n",
    "from google_cloud_pipeline_components.experimental.custom_job import utils\n",
    "from kfp.v2 import compiler, dsl\n",
    "from kfp.v2.dsl import component\n",
    "\n",
    "from datetime import datetime"
   ]
  },
  {
   "cell_type": "code",
   "execution_count": 2,
   "id": "6967cdc3-b573-4ba7-bde2-b6dc81e72a6b",
   "metadata": {},
   "outputs": [],
   "source": [
    "TIMESTAMP = '20230322094518' # datetime.now().strftime(\"%Y%m%d%H%M%S\")"
   ]
  },
  {
   "cell_type": "code",
   "execution_count": 3,
   "id": "a3128c8d-8652-48ba-a454-9a5e33eaa332",
   "metadata": {},
   "outputs": [
    {
     "data": {
      "text/plain": [
       "'20230322094518'"
      ]
     },
     "execution_count": 3,
     "metadata": {},
     "output_type": "execute_result"
    }
   ],
   "source": [
    "TIMESTAMP"
   ]
  },
  {
   "cell_type": "code",
   "execution_count": 4,
   "id": "13a1fcdb-e07e-4328-aff5-b12111259777",
   "metadata": {},
   "outputs": [],
   "source": [
    "shell_output = !gcloud config list --format 'value(core.project)' 2>/dev/null\n",
    "PROJECT_ID = shell_output[0]"
   ]
  },
  {
   "cell_type": "code",
   "execution_count": 5,
   "id": "881ea9e4-4755-4154-94b8-54b0b7ac87d6",
   "metadata": {},
   "outputs": [
    {
     "data": {
      "text/plain": [
       "'groupby-development'"
      ]
     },
     "execution_count": 5,
     "metadata": {},
     "output_type": "execute_result"
    }
   ],
   "source": [
    "PROJECT_ID"
   ]
  },
  {
   "cell_type": "code",
   "execution_count": 8,
   "id": "0ec7dc74-6a0e-43b0-918f-a71737f026f8",
   "metadata": {},
   "outputs": [],
   "source": [
    "BUCKET_URI = \"gs://gbi_ml/classification_hackathon/pipelines\""
   ]
  },
  {
   "cell_type": "code",
   "execution_count": 9,
   "id": "941980f5-7417-4d6e-bc04-a3c6069f55f5",
   "metadata": {},
   "outputs": [
    {
     "data": {
      "text/plain": [
       "'gs://gbi_ml/classification_hackathon/pipelines'"
      ]
     },
     "execution_count": 9,
     "metadata": {},
     "output_type": "execute_result"
    }
   ],
   "source": [
    "BUCKET_URI"
   ]
  },
  {
   "cell_type": "code",
   "execution_count": 10,
   "id": "d08d0eb3-f306-41f7-98b6-66dc5f47b59f",
   "metadata": {},
   "outputs": [
    {
     "name": "stdout",
     "output_type": "stream",
     "text": [
      "CommandException: Incorrect option(s) specified. Usage:\n",
      "\n",
      "  gsutil mb [-b (on|off)] [-c <class>] [-k <key>] [-l <location>] [-p <project>]\n",
      "            [--autoclass] [--retention <time>] [--pap <setting>]\n",
      "            [--rpo (ASYNC_TURBO|DEFAULT)] gs://<bucket_name>...\n",
      "\n",
      "For additional help run:\n",
      "  gsutil help mb\n"
     ]
    }
   ],
   "source": [
    "! gsutil mb -l $REGION $BUCKET_URI"
   ]
  },
  {
   "cell_type": "code",
   "execution_count": 11,
   "id": "43be1d47-aac5-4caa-b870-65936679cb5b",
   "metadata": {},
   "outputs": [
    {
     "name": "stdout",
     "output_type": "stream",
     "text": [
      "CommandException: One or more URLs matched no objects.\n"
     ]
    }
   ],
   "source": [
    "! gsutil ls -al $BUCKET_URI"
   ]
  },
  {
   "cell_type": "code",
   "execution_count": 12,
   "id": "a64a243d-19a8-4434-8bbb-764867ec385c",
   "metadata": {},
   "outputs": [
    {
     "name": "stdout",
     "output_type": "stream",
     "text": [
      "Service Account: 937725678441-compute@developer.gserviceaccount.com\n"
     ]
    }
   ],
   "source": [
    "shell_output = !gcloud auth list 2>/dev/null\n",
    "SERVICE_ACCOUNT = shell_output[2].strip()[8:]\n",
    "print(\"Service Account:\", SERVICE_ACCOUNT)"
   ]
  },
  {
   "cell_type": "code",
   "execution_count": 13,
   "id": "64122fe2-f3e3-4c61-b4ec-5b9626a52350",
   "metadata": {},
   "outputs": [],
   "source": [
    "EXPERIMENT_NAME = \"shopper-persuasion\"  # @param {type:\"string\"}\n",
    "REGION = \"us-central1\""
   ]
  },
  {
   "cell_type": "code",
   "execution_count": 11,
   "id": "547eac3d-c32a-4513-ad96-658ef1b30a63",
   "metadata": {},
   "outputs": [],
   "source": [
    "SKLEARN_VERSION = \"sklearn-cpu.0-23\"\n",
    "TRAIN_IMAGE = 'us-docker.pkg.dev/vertex-ai/training/scikit-learn-cpu.0-23:latest'"
   ]
  },
  {
   "cell_type": "code",
   "execution_count": 14,
   "id": "ea4a54f8-d6f8-41c2-8b4f-0f6103599357",
   "metadata": {},
   "outputs": [],
   "source": [
    "MACHINE_TYPE = \"n1-standard\"\n",
    "VCPU = \"16\"\n",
    "TRAIN_COMPUTE = MACHINE_TYPE + \"-\" + VCPU"
   ]
  },
  {
   "cell_type": "code",
   "execution_count": 16,
   "id": "0a3ac7c7-1213-4d3d-aeae-f43cec36723c",
   "metadata": {},
   "outputs": [],
   "source": [
    "PIPELINE_ROOT = BUCKET_URI"
   ]
  },
  {
   "cell_type": "code",
   "execution_count": 28,
   "id": "cbc9de9a-f0fe-46ee-8329-14f083ce95a4",
   "metadata": {},
   "outputs": [],
   "source": [
    "DISPLAY_NAME = 'classification_hackathon_model'"
   ]
  },
  {
   "cell_type": "code",
   "execution_count": 18,
   "id": "c5307cb7-dfb2-491e-80c7-4b2f11ced7eb",
   "metadata": {},
   "outputs": [],
   "source": [
    "aip.init(project=PROJECT_ID, staging_bucket=BUCKET_URI)"
   ]
  },
  {
   "cell_type": "markdown",
   "id": "a470f174-a268-43ad-afe4-2f1fa645ac69",
   "metadata": {},
   "source": [
    "## Model train pipeline"
   ]
  },
  {
   "cell_type": "code",
   "execution_count": 22,
   "id": "fddff32d-7f3c-48dd-8802-863921fb08ce",
   "metadata": {},
   "outputs": [],
   "source": [
    "import kfp\n",
    "from pathlib import Path\n",
    "\n",
    "from kfp.v2 import dsl\n",
    "from kfp.v2.dsl import (Artifact,\n",
    "                        Dataset,\n",
    "                        Input,\n",
    "                        Model,\n",
    "                        Output,\n",
    "                        Metrics,\n",
    "                        ClassificationMetrics,\n",
    "                        component, \n",
    "                        OutputPath, \n",
    "                        InputPath)"
   ]
  },
  {
   "cell_type": "code",
   "execution_count": 61,
   "id": "10104216-3db0-416a-88f2-d4257025efb7",
   "metadata": {},
   "outputs": [],
   "source": [
    "@component(\n",
    "  packages_to_install = [\n",
    "      \"pandas\",\n",
    "      \"lightgbm==3.3.3\",\n",
    "      \"scikit-learn==1.0.2\",\n",
    "      \"gcsfs\",\n",
    "      \"pickle5\"\n",
    "  ], base_image=\"python:3.9\",\n",
    ")\n",
    "def train_classifier(\n",
    "  # Use Input[T] to get a metadata-rich handle to the \n",
    "  # input artifact of type `Dataset`.\n",
    "  model: Output[Model], \n",
    "):\n",
    "    import pickle\n",
    "    import pickle5\n",
    "    \n",
    "    import gcsfs\n",
    "    import pandas as pd\n",
    "    import lightgbm as lgb\n",
    "    from sklearn.metrics import accuracy_score, classification_report\n",
    "    \n",
    "    # N = 100\n",
    "    base_dir = 'gs://gbi_ml/classification_hackathon/'\n",
    "    base_dir_gcsfs = base_dir[5:]\n",
    "    fs = gcsfs.GCSFileSystem()\n",
    "    \n",
    "    with fs.open(base_dir+'id2label.pickle', 'rb') as handle:\n",
    "        id2label = pickle.load(handle)\n",
    "    \n",
    "    with fs.open(base_dir+'X_train.pickle', 'rb') as handle:\n",
    "        train_embs = pickle5.load(handle)\n",
    "    \n",
    "    with fs.open(base_dir+'X_test.pickle', 'rb') as handle:\n",
    "        test_embs = pickle5.load(handle)\n",
    "        \n",
    "    y_train = pd.read_csv(base_dir+'train_labels.csv').label.values\n",
    "    y_test = pd.read_csv(base_dir+'test_labels.csv').label.values\n",
    "    \n",
    "    # X_train, X_test, y_train, y_test = train_test_split(\n",
    "    #     train_embs, y_train, test_size=0.1, random_state = 42, stratify=y_train)\n",
    "\n",
    "    # Get the train and test data for the training sequence\n",
    "#     train_dataset = lgb.Dataset(train_embs, label=y_train)\n",
    "#     test_dataset = lgb.Dataset(test_embs, label=y_test)\n",
    "    \n",
    "    parameters = {\n",
    "    # 'application': 'binary',\n",
    "    'objective': 'multiclass',\n",
    "    'metric': 'multi_logloss',\n",
    "    'boosting': 'gbdt',\n",
    "    # 'num_leaves': 31,\n",
    "    # 'feature_fraction': 0.5,\n",
    "    # 'bagging_fraction': 0.5,\n",
    "    # 'bagging_freq': 20,\n",
    "    # 'learning_rate': 0.05,\n",
    "    # 'verbose': 0,\n",
    "    # 'max_depth': 10,\n",
    "    # 'device': 'gpu',\n",
    "    'num_classes': len(id2label),\n",
    "    'min_data_in_leaf':300\n",
    "    }\n",
    "\n",
    "    # Train the classifier\n",
    "    # model = lgb.LGBMClassifier()\n",
    "    # model = lgb.LGBMClassifier(boosting_type='gbdt', num_leaves=31, max_depth=- 1, learning_rate=0.1, n_estimators=300, device = \"gpu\")\n",
    "    # classifier = lgb.train(\n",
    "    #     parameters, train_dataset, valid_sets=[train_dataset, test_dataset],\n",
    "    #     #  num_boost_round=5000,\n",
    "    #     early_stopping_rounds=10)\n",
    "    classifier = lgb.LGBMClassifier()\n",
    "    classifier.fit(train_embs, y_train, eval_set=(test_embs, y_test))\n",
    "    \n",
    "    y_test_pred = classifier.predict(test_embs)\n",
    "    \n",
    "    with fs.open(base_dir+'y_pred_lgb.pickle', 'wb') as handle:\n",
    "        pickle5.dump(y_test_pred, handle)\n",
    "    # report = classification_report(y_test, y_test_pred, output_dict=True, target_names=list(id2label.values))\n",
    "    # df_report = pandas.DataFrame(report).transpose()\n",
    "    # df_report.to_csv(base_dir+'classification_report_test.csv')\n",
    "\n",
    "    model.metadata[\"framework\"] = \"lightgbm\"\n",
    "    file_name = model.path + \".pickle\"\n",
    "    with open(file_name, 'wb') as handle:  \n",
    "        pickle.dump(classifier, handle)"
   ]
  },
  {
   "cell_type": "code",
   "execution_count": 62,
   "id": "20fc6216-0157-486e-a79a-71fd207dd4cf",
   "metadata": {},
   "outputs": [],
   "source": [
    "train_classifier_op = utils.create_custom_training_job_op_from_component(\n",
    "    train_classifier, \n",
    "                                                                        machine_type='n1-standard-8',\n",
    "                                                                        accelerator_type=\"NVIDIA_TESLA_P100\"\n",
    "                                                                        )"
   ]
  },
  {
   "cell_type": "code",
   "execution_count": 63,
   "id": "ec35f57e-47c9-4827-9261-7926395284f9",
   "metadata": {},
   "outputs": [],
   "source": [
    "@dsl.pipeline(\n",
    "    name=\"classification\",\n",
    "    pipeline_root=PIPELINE_ROOT\n",
    ")\n",
    "def pipeline(\n",
    "    project_id: str = PROJECT_ID\n",
    "):\n",
    "    # train_classifier()\n",
    "    train_classifier_op(\n",
    "        project=project_id,\n",
    "        location=REGION\n",
    "    )"
   ]
  },
  {
   "cell_type": "code",
   "execution_count": null,
   "id": "a2e9df85-9126-4e98-ac94-1a288b8337f4",
   "metadata": {},
   "outputs": [
    {
     "name": "stdout",
     "output_type": "stream",
     "text": [
      "Creating PipelineJob\n",
      "PipelineJob created. Resource name: projects/937725678441/locations/us-central1/pipelineJobs/classification-20230323100708\n",
      "To use this PipelineJob in another session:\n",
      "pipeline_job = aiplatform.PipelineJob.get('projects/937725678441/locations/us-central1/pipelineJobs/classification-20230323100708')\n",
      "View Pipeline Job:\n",
      "https://console.cloud.google.com/vertex-ai/locations/us-central1/pipelines/runs/classification-20230323100708?project=937725678441\n",
      "PipelineJob projects/937725678441/locations/us-central1/pipelineJobs/classification-20230323100708 current state:\n",
      "PipelineState.PIPELINE_STATE_RUNNING\n",
      "PipelineJob projects/937725678441/locations/us-central1/pipelineJobs/classification-20230323100708 current state:\n",
      "PipelineState.PIPELINE_STATE_RUNNING\n",
      "PipelineJob projects/937725678441/locations/us-central1/pipelineJobs/classification-20230323100708 current state:\n",
      "PipelineState.PIPELINE_STATE_RUNNING\n",
      "PipelineJob projects/937725678441/locations/us-central1/pipelineJobs/classification-20230323100708 current state:\n",
      "PipelineState.PIPELINE_STATE_RUNNING\n",
      "PipelineJob projects/937725678441/locations/us-central1/pipelineJobs/classification-20230323100708 current state:\n",
      "PipelineState.PIPELINE_STATE_RUNNING\n",
      "PipelineJob projects/937725678441/locations/us-central1/pipelineJobs/classification-20230323100708 current state:\n",
      "PipelineState.PIPELINE_STATE_RUNNING\n",
      "PipelineJob projects/937725678441/locations/us-central1/pipelineJobs/classification-20230323100708 current state:\n",
      "PipelineState.PIPELINE_STATE_RUNNING\n",
      "PipelineJob projects/937725678441/locations/us-central1/pipelineJobs/classification-20230323100708 current state:\n",
      "PipelineState.PIPELINE_STATE_RUNNING\n",
      "PipelineJob projects/937725678441/locations/us-central1/pipelineJobs/classification-20230323100708 current state:\n",
      "PipelineState.PIPELINE_STATE_RUNNING\n",
      "PipelineJob projects/937725678441/locations/us-central1/pipelineJobs/classification-20230323100708 current state:\n",
      "PipelineState.PIPELINE_STATE_RUNNING\n",
      "PipelineJob projects/937725678441/locations/us-central1/pipelineJobs/classification-20230323100708 current state:\n",
      "PipelineState.PIPELINE_STATE_RUNNING\n",
      "PipelineJob projects/937725678441/locations/us-central1/pipelineJobs/classification-20230323100708 current state:\n",
      "PipelineState.PIPELINE_STATE_RUNNING\n",
      "PipelineJob projects/937725678441/locations/us-central1/pipelineJobs/classification-20230323100708 current state:\n",
      "PipelineState.PIPELINE_STATE_RUNNING\n",
      "PipelineJob projects/937725678441/locations/us-central1/pipelineJobs/classification-20230323100708 current state:\n",
      "PipelineState.PIPELINE_STATE_RUNNING\n",
      "PipelineJob projects/937725678441/locations/us-central1/pipelineJobs/classification-20230323100708 current state:\n",
      "PipelineState.PIPELINE_STATE_RUNNING\n",
      "PipelineJob projects/937725678441/locations/us-central1/pipelineJobs/classification-20230323100708 current state:\n",
      "PipelineState.PIPELINE_STATE_RUNNING\n",
      "PipelineJob projects/937725678441/locations/us-central1/pipelineJobs/classification-20230323100708 current state:\n",
      "PipelineState.PIPELINE_STATE_RUNNING\n",
      "PipelineJob projects/937725678441/locations/us-central1/pipelineJobs/classification-20230323100708 current state:\n",
      "PipelineState.PIPELINE_STATE_RUNNING\n",
      "PipelineJob projects/937725678441/locations/us-central1/pipelineJobs/classification-20230323100708 current state:\n",
      "PipelineState.PIPELINE_STATE_RUNNING\n"
     ]
    }
   ],
   "source": [
    "compiler.Compiler().compile(\n",
    "    pipeline_func=pipeline, package_path=\"classification_training_spec.json\"\n",
    ")\n",
    "\n",
    "job = aip.PipelineJob(\n",
    "    display_name=DISPLAY_NAME,\n",
    "    template_path=\"classification_training_spec.json\",\n",
    "    pipeline_root=PIPELINE_ROOT,\n",
    "    enable_caching=False\n",
    ")\n",
    "\n",
    "job.run(service_account=SERVICE_ACCOUNT)"
   ]
  },
  {
   "cell_type": "markdown",
   "id": "0e9e13fb-9e29-48f6-b647-63023ec369c7",
   "metadata": {},
   "source": [
    "## Evaluate"
   ]
  },
  {
   "cell_type": "code",
   "execution_count": 72,
   "id": "374e1b5b-588f-45d8-9759-8d0e33f46b9f",
   "metadata": {},
   "outputs": [],
   "source": [
    "import gcsfs\n",
    "import pickle\n",
    "import pandas as pd\n",
    "\n",
    "base_dir = 'gs://gbi_ml/classification_hackathon/'\n",
    "fs = gcsfs.GCSFileSystem()\n",
    "with fs.open(base_dir+'y_pred_lgb.pickle', 'rb') as handle:\n",
    "    y_test_pred = pickle.load(handle)"
   ]
  },
  {
   "cell_type": "code",
   "execution_count": 73,
   "id": "6368131d-6103-40c9-9a62-274866c80272",
   "metadata": {},
   "outputs": [],
   "source": [
    "y_test = pd.read_csv(base_dir+'test_labels.csv').label.values"
   ]
  },
  {
   "cell_type": "code",
   "execution_count": 74,
   "id": "872335a3-d8c7-4b6b-8129-e559ac127c10",
   "metadata": {},
   "outputs": [],
   "source": [
    "with fs.open(base_dir+'id2label.pickle', 'rb') as handle:\n",
    "    id2label = pickle.load(handle)\n",
    "\n",
    "labels = list(id2label.keys())"
   ]
  },
  {
   "cell_type": "code",
   "execution_count": 90,
   "id": "89ee15f6-20b3-4db0-9c8f-100fc3d13734",
   "metadata": {},
   "outputs": [],
   "source": [
    "from sklearn.metrics import accuracy_score, top_k_accuracy_score\n",
    "\n",
    "def evaluate(y_true, y_pred, df_name):\n",
    "    top1_acc = accuracy_score(y_true, y_pred)\n",
    "    top3_acc = top_k_accuracy_score(y_true, y_pred, k=3, labels=labels)\n",
    "    result = {'top1_acc': top1_acc, 'top3_acc': top3_acc}\n",
    "    print(f'Accuracy on {df_name} dataset:', result)\n",
    "    return result"
   ]
  },
  {
   "cell_type": "code",
   "execution_count": 91,
   "id": "c0664ae4-1c54-496e-9393-4d4f11025dac",
   "metadata": {},
   "outputs": [
    {
     "ename": "ValueError",
     "evalue": "Number of given labels (666) not equal to the number of classes in 'y_score' (2).",
     "output_type": "error",
     "traceback": [
      "\u001b[0;31m---------------------------------------------------------------------------\u001b[0m",
      "\u001b[0;31mValueError\u001b[0m                                Traceback (most recent call last)",
      "\u001b[0;32m/tmp/ipykernel_24439/3674289267.py\u001b[0m in \u001b[0;36m<module>\u001b[0;34m\u001b[0m\n\u001b[0;32m----> 1\u001b[0;31m \u001b[0mevaluate\u001b[0m\u001b[0;34m(\u001b[0m\u001b[0my_test\u001b[0m\u001b[0;34m,\u001b[0m \u001b[0my_test_pred\u001b[0m\u001b[0;34m,\u001b[0m \u001b[0;34m'test'\u001b[0m\u001b[0;34m)\u001b[0m\u001b[0;34m\u001b[0m\u001b[0;34m\u001b[0m\u001b[0m\n\u001b[0m",
      "\u001b[0;32m/tmp/ipykernel_24439/2272089082.py\u001b[0m in \u001b[0;36mevaluate\u001b[0;34m(y_true, y_pred, df_name)\u001b[0m\n\u001b[1;32m      3\u001b[0m \u001b[0;32mdef\u001b[0m \u001b[0mevaluate\u001b[0m\u001b[0;34m(\u001b[0m\u001b[0my_true\u001b[0m\u001b[0;34m,\u001b[0m \u001b[0my_pred\u001b[0m\u001b[0;34m,\u001b[0m \u001b[0mdf_name\u001b[0m\u001b[0;34m)\u001b[0m\u001b[0;34m:\u001b[0m\u001b[0;34m\u001b[0m\u001b[0;34m\u001b[0m\u001b[0m\n\u001b[1;32m      4\u001b[0m     \u001b[0mtop1_acc\u001b[0m \u001b[0;34m=\u001b[0m \u001b[0maccuracy_score\u001b[0m\u001b[0;34m(\u001b[0m\u001b[0my_true\u001b[0m\u001b[0;34m,\u001b[0m \u001b[0my_pred\u001b[0m\u001b[0;34m)\u001b[0m\u001b[0;34m\u001b[0m\u001b[0;34m\u001b[0m\u001b[0m\n\u001b[0;32m----> 5\u001b[0;31m     \u001b[0mtop3_acc\u001b[0m \u001b[0;34m=\u001b[0m \u001b[0mtop_k_accuracy_score\u001b[0m\u001b[0;34m(\u001b[0m\u001b[0my_true\u001b[0m\u001b[0;34m,\u001b[0m \u001b[0my_pred\u001b[0m\u001b[0;34m,\u001b[0m \u001b[0mk\u001b[0m\u001b[0;34m=\u001b[0m\u001b[0;36m3\u001b[0m\u001b[0;34m,\u001b[0m \u001b[0mlabels\u001b[0m\u001b[0;34m=\u001b[0m\u001b[0mlabels\u001b[0m\u001b[0;34m)\u001b[0m\u001b[0;34m\u001b[0m\u001b[0;34m\u001b[0m\u001b[0m\n\u001b[0m\u001b[1;32m      6\u001b[0m     \u001b[0mresult\u001b[0m \u001b[0;34m=\u001b[0m \u001b[0;34m{\u001b[0m\u001b[0;34m'top1_acc'\u001b[0m\u001b[0;34m:\u001b[0m \u001b[0mtop1_acc\u001b[0m\u001b[0;34m,\u001b[0m \u001b[0;34m'top3_acc'\u001b[0m\u001b[0;34m:\u001b[0m \u001b[0mtop3_acc\u001b[0m\u001b[0;34m}\u001b[0m\u001b[0;34m\u001b[0m\u001b[0;34m\u001b[0m\u001b[0m\n\u001b[1;32m      7\u001b[0m     \u001b[0mprint\u001b[0m\u001b[0;34m(\u001b[0m\u001b[0;34mf'Accuracy on {df_name} dataset:'\u001b[0m\u001b[0;34m,\u001b[0m \u001b[0mresult\u001b[0m\u001b[0;34m)\u001b[0m\u001b[0;34m\u001b[0m\u001b[0;34m\u001b[0m\u001b[0m\n",
      "\u001b[0;32m/opt/conda/lib/python3.7/site-packages/sklearn/metrics/_ranking.py\u001b[0m in \u001b[0;36mtop_k_accuracy_score\u001b[0;34m(y_true, y_score, k, normalize, sample_weight, labels)\u001b[0m\n\u001b[1;32m   1738\u001b[0m         \u001b[0;32mif\u001b[0m \u001b[0mn_classes\u001b[0m \u001b[0;34m!=\u001b[0m \u001b[0my_score_n_classes\u001b[0m\u001b[0;34m:\u001b[0m\u001b[0;34m\u001b[0m\u001b[0;34m\u001b[0m\u001b[0m\n\u001b[1;32m   1739\u001b[0m             raise ValueError(\n\u001b[0;32m-> 1740\u001b[0;31m                 \u001b[0;34mf\"Number of given labels ({n_classes}) not equal to the \"\u001b[0m\u001b[0;34m\u001b[0m\u001b[0;34m\u001b[0m\u001b[0m\n\u001b[0m\u001b[1;32m   1741\u001b[0m                 \u001b[0;34mf\"number of classes in 'y_score' ({y_score_n_classes}).\"\u001b[0m\u001b[0;34m\u001b[0m\u001b[0;34m\u001b[0m\u001b[0m\n\u001b[1;32m   1742\u001b[0m             )\n",
      "\u001b[0;31mValueError\u001b[0m: Number of given labels (666) not equal to the number of classes in 'y_score' (2)."
     ]
    }
   ],
   "source": [
    "evaluate(y_test, y_test_pred, 'test')"
   ]
  },
  {
   "cell_type": "code",
   "execution_count": 77,
   "id": "65770c87-b9fa-4102-9e85-ebb5d44d71e3",
   "metadata": {},
   "outputs": [],
   "source": [
    "with fs.open('gs://gbi_ml/classification_hackathon/pipelines/937725678441/classification-20230323100708/train-classifier_-2506190795346804736/model.pickle', 'rb') as handle:\n",
    "    model = pickle.load(handle)"
   ]
  },
  {
   "cell_type": "code",
   "execution_count": 78,
   "id": "9dc160c9-a131-4165-a667-d72794699d7a",
   "metadata": {},
   "outputs": [],
   "source": [
    "import pickle5\n",
    "with fs.open(base_dir+'X_test.pickle', 'rb') as handle:\n",
    "    test_embs = pickle5.load(handle)"
   ]
  },
  {
   "cell_type": "code",
   "execution_count": 79,
   "id": "16bb1416-68d2-4d49-a9f5-4fd96df6e270",
   "metadata": {},
   "outputs": [],
   "source": [
    "y_test_pred = model.predict(test_embs)"
   ]
  },
  {
   "cell_type": "code",
   "execution_count": 92,
   "id": "cd331dc0-1aa9-484c-8df2-ddc47322c302",
   "metadata": {},
   "outputs": [
    {
     "data": {
      "text/plain": [
       "array([ 79,  79,  79, ..., 537,  79,  79])"
      ]
     },
     "execution_count": 92,
     "metadata": {},
     "output_type": "execute_result"
    }
   ],
   "source": [
    "y_test_pred"
   ]
  },
  {
   "cell_type": "code",
   "execution_count": null,
   "id": "381b9d77-03d3-47c4-a822-b0614d8d9a83",
   "metadata": {},
   "outputs": [],
   "source": []
  }
 ],
 "metadata": {
  "environment": {
   "kernel": "python3",
   "name": "tf-gpu.1-15.m93",
   "type": "gcloud",
   "uri": "gcr.io/deeplearning-platform-release/tf-gpu.1-15:m93"
  },
  "kernelspec": {
   "display_name": "Python 3",
   "language": "python",
   "name": "python3"
  },
  "language_info": {
   "codemirror_mode": {
    "name": "ipython",
    "version": 3
   },
   "file_extension": ".py",
   "mimetype": "text/x-python",
   "name": "python",
   "nbconvert_exporter": "python",
   "pygments_lexer": "ipython3",
   "version": "3.7.12"
  }
 },
 "nbformat": 4,
 "nbformat_minor": 5
}
